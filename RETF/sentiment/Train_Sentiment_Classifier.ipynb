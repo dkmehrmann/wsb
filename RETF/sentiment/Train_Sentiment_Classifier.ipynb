{
 "cells": [
  {
   "cell_type": "code",
   "execution_count": 21,
   "metadata": {
    "collapsed": false
   },
   "outputs": [
    {
     "data": {
      "text/plain": [
       "(205, 6)"
      ]
     },
     "execution_count": 21,
     "metadata": {},
     "output_type": "execute_result"
    }
   ],
   "source": [
    "pd.read_csv('data_for_scoring_wallstreetbets_2016-01-01_2016-06-01_True_Casey.csv').shape"
   ]
  },
  {
   "cell_type": "code",
   "execution_count": 18,
   "metadata": {
    "collapsed": false
   },
   "outputs": [
    {
     "name": "stdout",
     "output_type": "stream",
     "text": [
      "Overwriting make_scoring_data.py\n"
     ]
    }
   ],
   "source": [
    "%%writefile make_scoring_data.py\n",
    "\n",
    "start_date = '2016-01-01'\n",
    "end_date = '2016-06-01'\n",
    "dollar_sign = True\n",
    "subreddit = 'wallstreetbets'\n",
    "total_N = 600\n",
    "\n",
    "fname = 'data_for_scoring_{0}_{1}_{2}_{3}_{4}.csv'\n",
    "\n",
    "import sys\n",
    "sys.path.insert(0, '../..')\n",
    "from RETF.reddit_scraper.scrape import SubScraper\n",
    "from RETF.portfolio.get_stats import Post, unix_to_datetime\n",
    "import pandas as pd\n",
    "from RETF.portfolio.match_tickers import SymbolFinder\n",
    "from RETF.portfolio.index import make_ticker_list\n",
    "import numpy as np\n",
    "\n",
    "\n",
    "def format_labeling_data(submission):\n",
    "    p = Post(submission)\n",
    "    # create text the same way it will be created in prod\n",
    "    p.create_text() \n",
    "    # return filtered tokens\n",
    "    return unix_to_datetime(submission.created_utc), p.text, sf.get_primary_ticker(p.text), 'unk'\n",
    "\n",
    "if __name__ == '__main__':\n",
    "\n",
    "    sf = SymbolFinder(make_ticker_list(['../../data/nyse.csv', '../../data/nasdaq.csv']), dollar_sign=dollar_sign)\n",
    "    \n",
    "    scraper = SubScraper(\"../../RETF/credentials.txt\")\n",
    "    \n",
    "    submissions=scraper.get_submissions_between(subreddit, start_date, end_date)\n",
    "    \n",
    "    df = pd.DataFrame([format_labeling_data(x) for x in submissions], columns=['date', 'text', 'ticker', 'score'])\n",
    "    \n",
    "    df = df.loc[df.ticker.notnull()]\n",
    "    \n",
    "    df = df.sample(total_N)\n",
    "    \n",
    "    df['scorer'] = np.random.choice(['Andrew','Joe','Casey'], len(df))\n",
    "    \n",
    "    for person in ['Andrew', 'Joe', 'Casey']:\n",
    "        df[df.scorer == person].to_csv(fname.format(subreddit, start_date, end_date, dollar_sign, person))"
   ]
  },
  {
   "cell_type": "markdown",
   "metadata": {},
   "source": [
    "## Script for labelling"
   ]
  },
  {
   "cell_type": "code",
   "execution_count": 17,
   "metadata": {
    "collapsed": false
   },
   "outputs": [
    {
     "name": "stdout",
     "output_type": "stream",
     "text": [
      "Overwriting score_file.py\n"
     ]
    }
   ],
   "source": [
    "%%writefile score_file.py\n",
    "\n",
    "# If you quit before completing the exercise, you point the `infile` \n",
    "# argument to the `outfile` so you may pick up where you left off.\n",
    "\n",
    "# the file for scoring\n",
    "infile = \"data_for_scoring_wallstreetbets_2016-01-01_2016-06-01_True_Andrew.csv\"\n",
    "# the output file (can be same as input file)\n",
    "outfile = \"output_andrew.csv\"\n",
    "\n",
    "import pandas as pd\n",
    "\n",
    "def print_message(row):\n",
    "    print(\"\\n-------------------\")\n",
    "    print(row.text)\n",
    "    print(\"\")\n",
    "    print(\"Symbol: {0}\".format(row.ticker))\n",
    "    print(\"\")\n",
    "    print(\"1: Positive (bullish)\")\n",
    "    print(\"2: Negative (bearish)\")\n",
    "    print(\"3: Not Sure/Wrong Ticker\")\n",
    "    print(\"4: Exit\")\n",
    "    \n",
    "\n",
    "if __name__ == '__main__':\n",
    "    \n",
    "    df = pd.read_csv(infile, index_col=0)\n",
    "    \n",
    "    for ix, row in df.iterrows():\n",
    "        if row.score == 'unk':\n",
    "            while True:\n",
    "                print_message(row)\n",
    "                inp = input(\"Input: \")\n",
    "                if not inp in ['1', '2', '3', '4']:\n",
    "                    print('thats not valid, try again')\n",
    "                else:\n",
    "                    break\n",
    "            if inp == '4':\n",
    "                break\n",
    "            df.loc[ix, 'score'] = ['bull', 'bear', 'usr_unk'][int(inp)-1]\n",
    "\n",
    "    df.to_csv(outfile)"
   ]
  },
  {
   "cell_type": "markdown",
   "metadata": {},
   "source": [
    "## After they go off for labelling, bring them back in and convert for modelling"
   ]
  },
  {
   "cell_type": "code",
   "execution_count": null,
   "metadata": {
    "collapsed": false
   },
   "outputs": [],
   "source": [
    "\n",
    "from RETF.portfolio.match_tickers import SymbolFinder\n",
    "sf = SymbolFinder(make_ticker_list(['../../data/nyse.csv', '../../data/nasdaq.csv']), dollar_sign=dollar_sign)\n",
    "\n",
    "\n",
    "def make_modeling_data(text):\n",
    "    # remove possible tickers\n",
    "    tokens = sf.tokenize(p.text) \n",
    "    possible_tickers = sf.filter_symbols(tokens)\n",
    "    [x.lower().strip() for x in tokens if x not in possible_tickers]"
   ]
  }
 ],
 "metadata": {
  "kernelspec": {
   "display_name": "Python [conda root]",
   "language": "python",
   "name": "conda-root-py"
  },
  "language_info": {
   "codemirror_mode": {
    "name": "ipython",
    "version": 3
   },
   "file_extension": ".py",
   "mimetype": "text/x-python",
   "name": "python",
   "nbconvert_exporter": "python",
   "pygments_lexer": "ipython3",
   "version": "3.6.0"
  }
 },
 "nbformat": 4,
 "nbformat_minor": 2
}
